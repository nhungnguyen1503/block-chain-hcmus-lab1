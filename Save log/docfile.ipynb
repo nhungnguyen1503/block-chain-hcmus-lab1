{
 "cells": [
  {
   "cell_type": "code",
   "execution_count": 3,
   "metadata": {},
   "outputs": [
    {
     "name": "stdout",
     "output_type": "stream",
     "text": [
      "Log loaded from log of node 1.txt: [{'term': 1, 'command': 'set x=10'}, {'term': 1, 'command': 'set y=20'}, {'term': 2, 'command': 'set z=30'}, {'term': 3, 'command': 'add x 2'}, {'term': 3, 'command': 'delete y'}, {'term': 3, 'command': 'add z 30'}]\n"
     ]
    },
    {
     "data": {
      "text/plain": [
       "3"
      ]
     },
     "execution_count": 3,
     "metadata": {},
     "output_type": "execute_result"
    }
   ],
   "source": [
    "def load_log_from_file(file_path):\n",
    "    log = []\n",
    "    try:\n",
    "        with open(file_path, \"r\") as f:\n",
    "            for line in f:\n",
    "                term, command = line.strip().split(\",\")\n",
    "                log.append({\"term\": int(term), \"command\": command})\n",
    "        print(f\"Log loaded from {file_path}: {log}\")\n",
    "    except Exception as e:\n",
    "        print(f\"Failed to load log from {file_path}: {e}\")\n",
    "    return log\n",
    "\n",
    "log = load_log_from_file(\"log of node 1.txt\")\n",
    "log[-1]['term']"
   ]
  },
  {
   "cell_type": "markdown",
   "metadata": {},
   "source": [
    "1,set x=10\n",
    "1,set y=20\n",
    "2,set z=30\n",
    "3,add x 2\n",
    "3,delete y\n",
    "3,add z 30"
   ]
  }
 ],
 "metadata": {
  "kernelspec": {
   "display_name": "min_ds-env",
   "language": "python",
   "name": "python3"
  },
  "language_info": {
   "codemirror_mode": {
    "name": "ipython",
    "version": 3
   },
   "file_extension": ".py",
   "mimetype": "text/x-python",
   "name": "python",
   "nbconvert_exporter": "python",
   "pygments_lexer": "ipython3",
   "version": "3.9.18"
  }
 },
 "nbformat": 4,
 "nbformat_minor": 2
}
